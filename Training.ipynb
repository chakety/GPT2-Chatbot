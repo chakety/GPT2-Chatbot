#Import Env
%tensorflow_version 1.x
!pip install -q gpt-2-simple
import gpt_2_simple as gpt2
from datetime import datetime
from google.colab import files

#Generate the GUP 
!nvidia-smi

#Download the Model
gpt2.download_gpt2(model_name="345M")

#Connect to Google Drive
gpt2.mount_gdrive()

#Upload the file to 
gpt2.copy_file_from_gdrive("2train2.txt")

#Start Training: For the first time user, set the restore_from to 'fresh'. 
#And whenever you need retain, please start call the kill -9-1 command list in below, and restar from the begining.
sess = gpt2.start_tf_sess()
gpt2.finetune(sess,
              dataset="2train2.txt",
              model_name='345M',
              steps=3000,
              restore_from='latest',
              run_name='run1',
              print_every=10,
              sample_every=200,
              save_every=500
              )

#Saving the Checkpoint to Google Drive
gpt2.copy_checkpoint_to_gdrive(run_name='run1')

#Generate the text from recent checkpoint to ensure everything it fine.
gpt2.generate(sess, run_name='run1')

#By the changing the prefix, you can see how the GPT2 generalize text. 
gpt2.generate(sess,
              model_name="345M",
              prefix="class/section should I take?",
              length=100,
              temperature=0.7,
              top_p=0.9,
              nsamples=5,
              batch_size=5
              )
#Run this command whevenever you receive an Error or need to restart the program.
!kill -9 -1
